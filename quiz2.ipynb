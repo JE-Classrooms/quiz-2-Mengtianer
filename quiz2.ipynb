{
 "cells": [
  {
   "cell_type": "markdown",
   "metadata": {},
   "source": [
    "# Quiz 2\n",
    "\n",
    "**Author:**"
   ]
  },
  {
   "cell_type": "markdown",
   "metadata": {},
   "source": [
    "**Exercise 1:** \n",
    "\n",
    "Create a function that takes a string composed of a combination of letters and numbers as input, extracts only the numbers, and returns the minimum, maximum, and sum of the numbers. Use the function to print the minimum, maximum, and sum for the following strings:\n",
    "\n",
    "**(a)** 'aBnAdC2m45m6m789m34'\n",
    "\n",
    "**Expected output:** Minimum:  2 Maximum:  9 Sum:  48\n",
    "\n",
    "**(b)** 'AABBBCCccD12345'\n",
    "\n",
    "**Expected output:** Minimum:  1 Maximum:  5 Sum:  15\n",
    "\n",
    "**(c)** '1541615'\n",
    "\n",
    "**Expected output:** Minimum:  1 Maximum:  6 Sum:  23\n",
    "\n",
    "*Hint:* notice that numbers are not upper case not lower case! (recall Exercise 1 from Lecture 9 and the function ```int()```)\n"
   ]
  },
  {
   "cell_type": "code",
   "execution_count": 63,
   "metadata": {},
   "outputs": [],
   "source": [
    "\n",
    "def num(s):\n",
    "    sum = 0\n",
    "    min = 10\n",
    "    max = 0\n",
    "    i = 0\n",
    "   \n",
    "    for i in range(len(s)):\n",
    "        if s[i].isdigit():\n",
    "            if int(s[i]) >= max:\n",
    "                max = int(s[i])\n",
    "                \n",
    "            if int(s[i]) <= min:\n",
    "                min = int(s[i])\n",
    "            sum += int(s[i])\n",
    "        i += 1\n",
    "    print('Minimum:', min)\n",
    "    print('Maximum:', max)\n",
    "    print('Sum:', sum)"
   ]
  },
  {
   "cell_type": "code",
   "execution_count": 64,
   "metadata": {},
   "outputs": [
    {
     "name": "stdout",
     "output_type": "stream",
     "text": [
      "Minimum: 2\n",
      "Maximum: 9\n",
      "Sum: 48\n"
     ]
    }
   ],
   "source": [
    "num('aBnAdC2m45m6m789m34')"
   ]
  },
  {
   "cell_type": "code",
   "execution_count": 65,
   "metadata": {},
   "outputs": [
    {
     "name": "stdout",
     "output_type": "stream",
     "text": [
      "Minimum: 1\n",
      "Maximum: 5\n",
      "Sum: 15\n"
     ]
    }
   ],
   "source": [
    "num('AABBBCCccD12345')"
   ]
  },
  {
   "cell_type": "code",
   "execution_count": 27,
   "metadata": {},
   "outputs": [
    {
     "name": "stdout",
     "output_type": "stream",
     "text": [
      "Minimum: 1\n",
      "Maximum: 6\n",
      "Sum: 23\n"
     ]
    }
   ],
   "source": [
    "num('1541615')"
   ]
  },
  {
   "cell_type": "markdown",
   "metadata": {},
   "source": [
    "**Exercise 2:**\n",
    "\n",
    "Create a function that takes any arbitrary dictionary that contains the key ```radius``` as an input and returns the area of a circle with that radius. Calculate the area for the following two dictionaries:\n",
    "\n",
    "**(a)** {'a':10, 'b':160, 'radius':5, 'what':0}\n",
    "\n",
    "**Expected output:** 15.707963267948966\n",
    "\n",
    "**(b)** {1:5, 4:8, 'radius':13, 10:10, 20:20}\n",
    "\n",
    "**Expected output:** 40.840704496667314\n",
    "\n",
    "*Hint* the area of a circle is $\\pi*radius^2$. You can use $\\pi$ with the library ```math``` as ```math.pi``` (check the dictionaries.ipynb to remember how to get the value of a key)"
   ]
  },
  {
   "cell_type": "code",
   "execution_count": 66,
   "metadata": {},
   "outputs": [],
   "source": [
    "import math\n",
    "def area(n):\n",
    "    area = 0\n",
    "    for key in n:\n",
    "        if key == 'radius':\n",
    "            area = math.pi * (n[key] **2)\n",
    "    return area  \n"
   ]
  },
  {
   "cell_type": "code",
   "execution_count": 67,
   "metadata": {},
   "outputs": [
    {
     "data": {
      "text/plain": [
       "78.53981633974483"
      ]
     },
     "execution_count": 67,
     "metadata": {},
     "output_type": "execute_result"
    }
   ],
   "source": [
    "area({'a':10, 'b':160, 'radius':5, 'what':0})\n"
   ]
  },
  {
   "cell_type": "code",
   "execution_count": 68,
   "metadata": {},
   "outputs": [
    {
     "data": {
      "text/plain": [
       "530.929158456675"
      ]
     },
     "execution_count": 68,
     "metadata": {},
     "output_type": "execute_result"
    }
   ],
   "source": [
    "area({1:5, 4:8, 'radius':13, 10:10, 20:20})"
   ]
  },
  {
   "cell_type": "markdown",
   "metadata": {},
   "source": [
    "**Exercise 3:**\n",
    "\n",
    "Write a Python function to sum all the numbers in a list. Provide a result for the function with three numbers of your choice."
   ]
  },
  {
   "cell_type": "code",
   "execution_count": 59,
   "metadata": {},
   "outputs": [],
   "source": [
    "def sum(a):\n",
    "    sum = 0\n",
    "    i = 0\n",
    "    for i in range(len(a)):\n",
    "        sum += a[i]\n",
    "        i += 1\n",
    "    return sum"
   ]
  },
  {
   "cell_type": "code",
   "execution_count": 60,
   "metadata": {},
   "outputs": [
    {
     "data": {
      "text/plain": [
       "9"
      ]
     },
     "execution_count": 60,
     "metadata": {},
     "output_type": "execute_result"
    }
   ],
   "source": [
    "sum([2,4,3])"
   ]
  },
  {
   "cell_type": "code",
   "execution_count": 61,
   "metadata": {},
   "outputs": [
    {
     "data": {
      "text/plain": [
       "16"
      ]
     },
     "execution_count": 61,
     "metadata": {},
     "output_type": "execute_result"
    }
   ],
   "source": [
    "sum([5,8,3])"
   ]
  },
  {
   "cell_type": "code",
   "execution_count": 69,
   "metadata": {},
   "outputs": [
    {
     "data": {
      "text/plain": [
       "11"
      ]
     },
     "execution_count": 69,
     "metadata": {},
     "output_type": "execute_result"
    }
   ],
   "source": [
    "sum([4,2,5])"
   ]
  }
 ],
 "metadata": {
  "kernelspec": {
   "display_name": "conda_amazonei_mxnet_p36",
   "language": "python",
   "name": "conda_amazonei_mxnet_p36"
  },
  "language_info": {
   "codemirror_mode": {
    "name": "ipython",
    "version": 3
   },
   "file_extension": ".py",
   "mimetype": "text/x-python",
   "name": "python",
   "nbconvert_exporter": "python",
   "pygments_lexer": "ipython3",
   "version": "3.6.13"
  },
  "vscode": {
   "interpreter": {
    "hash": "9fbb33e86ca55080a202fed700efde3fb4ffe3f46131e5b52201b9ba06ce5f72"
   }
  }
 },
 "nbformat": 4,
 "nbformat_minor": 4
}
